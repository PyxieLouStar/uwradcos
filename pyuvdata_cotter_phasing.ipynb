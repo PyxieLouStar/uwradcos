{
 "cells": [
  {
   "cell_type": "code",
   "execution_count": 3,
   "metadata": {
    "collapsed": true
   },
   "outputs": [],
   "source": [
    "import os\n",
    "import numpy as np\n",
    "\n",
    "from pyuvdata import UVData\n",
    "from pyuvdata.data import DATA_PATH"
   ]
  },
  {
   "cell_type": "code",
   "execution_count": 4,
   "metadata": {
    "collapsed": false
   },
   "outputs": [
    {
     "name": "stderr",
     "output_type": "stream",
     "text": [
      "WARNING: failed to download http://maia.usno.navy.mil/ser7/finals2000A.all, using local IERS-B: <urlopen error timed out> [astropy.utils.iers.iers]\n",
      "telescope_location is not set. Using known values for MWA.\n",
      "some coarse channel files were not submitted\n",
      "WARNING: failed to download http://maia.usno.navy.mil/ser7/finals2000A.all, using local IERS-B: [Errno 54] Connection reset by peer [astropy.utils.iers.iers]\n"
     ]
    }
   ],
   "source": [
    "phasedfile = os.path.join(DATA_PATH, 'mwa_corr_fits_testfiles/1131733552_mini_cotter_phased.uvfits')\n",
    "# this file has phased the uvw array but not the data array\n",
    "# unphasedfile = os.path.join(DATA_PATH, 'mwa_corr_fits_testfiles/1131733552_mini_cotter.uvfits')\n",
    "rawfile = os.path.join(DATA_PATH, 'mwa_corr_fits_testfiles/1131733552_20151116182537_mini_gpubox01_00.fits')\n",
    "metafile = os.path.join(DATA_PATH, 'mwa_corr_fits_testfiles/1131733552.metafits')\n",
    "cotter_phased = UVData()\n",
    "# cotter_unphased = UVData()\n",
    "mwa_raw = UVData()\n",
    "cotter_phased.read(phasedfile)\n",
    "mwa_phased = UVData()\n",
    "# cotter_unphased.read(unphasedfile)\n",
    "# get raw data to phase with gcrs frame\n",
    "mwa_raw.read_mwa_corr_fits([metafile, rawfile], correct_cable_len=True)\n",
    "# this phases the raw data with icrs frame\n",
    "mwa_phased.read_mwa_corr_fits([metafile, rawfile], correct_cable_len=True, phase_data=True)"
   ]
  },
  {
   "cell_type": "code",
   "execution_count": 5,
   "metadata": {
    "collapsed": false
   },
   "outputs": [
    {
     "name": "stderr",
     "output_type": "stream",
     "text": [
      "WARNING: failed to download http://maia.usno.navy.mil/ser7/finals2000A.all, using local IERS-B: <urlopen error timed out> [astropy.utils.iers.iers]\n",
      "WARNING: failed to download http://maia.usno.navy.mil/ser7/finals2000A.all, using local IERS-B: [Errno 54] Connection reset by peer [astropy.utils.iers.iers]\n"
     ]
    }
   ],
   "source": [
    "ra = cotter_phased.phase_center_ra\n",
    "dec = cotter_phased.phase_center_dec\n",
    "mwa_uv_phased1=mwa_raw.copy()\n",
    "mwa_uv_phased2=mwa_raw.copy()\n",
    "mwa_uv_phased1.phase(ra, dec, phase_frame='gcrs')\n",
    "mwa_uv_phased2.phase(ra, dec, phase_frame='gcrs', use_ant_pos=True)"
   ]
  },
  {
   "cell_type": "code",
   "execution_count": 6,
   "metadata": {
    "collapsed": true
   },
   "outputs": [],
   "source": [
    "# cotter is missing xy autos; yx autos are conjugated\n",
    "autos = np.isclose(cotter_phased.ant_1_array - cotter_phased.ant_2_array, 0.0)\n",
    "cotter_phased.data_array[autos, :, :, 2] = cotter_phased.data_array[autos, :, :, 3]\n",
    "cotter_phased.data_array[autos, :, :, 3] = np.conj(cotter_phased.data_array[autos, :, :, 3])"
   ]
  },
  {
   "cell_type": "code",
   "execution_count": 14,
   "metadata": {
    "collapsed": false
   },
   "outputs": [
    {
     "name": "stdout",
     "output_type": "stream",
     "text": [
      "maximum difference in uvw_array in meters\n",
      "0.0073829564281595594\n",
      "maximum ratio of 2 * data_array difference / data_array sum\n",
      "0.030406464\n"
     ]
    }
   ],
   "source": [
    "# compare phased raw data with cotter phased data\n",
    "print('maximum difference in uvw_array in meters')\n",
    "print(np.max(np.abs(cotter_phased.uvw_array-mwa_uv_phased1.uvw_array)))\n",
    "abs_diff = np.abs(cotter_phased.data_array-mwa_uv_phased1.data_array)\n",
    "abs_sum = np.abs(cotter_phased.data_array+mwa_uv_phased1.data_array)\n",
    "print('maximum ratio of 2 * data_array difference / data_array sum')\n",
    "print(np.max(2*abs_diff/abs_sum))"
   ]
  },
  {
   "cell_type": "code",
   "execution_count": 8,
   "metadata": {
    "collapsed": false
   },
   "outputs": [
    {
     "name": "stdout",
     "output_type": "stream",
     "text": [
      "maximum difference in uvw_array in meters\n",
      "0.007378927604122509\n",
      "maximum ratio of 2 * data_array difference / data_array sum\n",
      "0.03038985\n"
     ]
    }
   ],
   "source": [
    "# compare phased raw data, use_ant_pos-True, with cotter phased data\n",
    "print('maximum difference in uvw_array in meters')\n",
    "print(np.max(np.abs(cotter_phased.uvw_array-mwa_uv_phased2.uvw_array)))\n",
    "abs_diff = np.abs(cotter_phased.data_array-mwa_uv_phased2.data_array)\n",
    "abs_sum = np.abs(cotter_phased.data_array+mwa_uv_phased2.data_array)\n",
    "print('maximum ratio of 2 * data_array difference / data_array sum')\n",
    "print(np.max(2*abs_diff/abs_sum))"
   ]
  },
  {
   "cell_type": "code",
   "execution_count": 9,
   "metadata": {
    "collapsed": false
   },
   "outputs": [
    {
     "name": "stdout",
     "output_type": "stream",
     "text": [
      "maximum difference in uvw_array in meters\n",
      "0.1442541375743076\n",
      "maximum ratio of 2 * data_array difference / data_array sum\n",
      "0.029768882\n"
     ]
    }
   ],
   "source": [
    "# compare icrs phased data to cotter\n",
    "print('maximum difference in uvw_array in meters')\n",
    "print(np.max(np.abs(cotter_phased.uvw_array-mwa_phased.uvw_array)))\n",
    "abs_diff = np.abs(cotter_phased.data_array-mwa_phased.data_array)\n",
    "abs_sum = np.abs(cotter_phased.data_array+mwa_phased.data_array)\n",
    "print('maximum ratio of 2 * data_array difference / data_array sum')\n",
    "print(np.max(2*abs_diff/abs_sum))"
   ]
  },
  {
   "cell_type": "code",
   "execution_count": 10,
   "metadata": {
    "collapsed": false
   },
   "outputs": [],
   "source": [
    "# nsample_arrays won't match; make sure they are consistent\n",
    "cotter_phased.nsample_array[np.where(mwa_uv_phased1.nsample_array == 1.0)] = 1.0"
   ]
  },
  {
   "cell_type": "code",
   "execution_count": 11,
   "metadata": {
    "collapsed": true
   },
   "outputs": [],
   "source": [
    "# adjust other parameters that don't match\n",
    "cotter_phased.flag_array = mwa_uv_phased1.flag_array\n",
    "cotter_phased.history = mwa_uv_phased1.history\n",
    "cotter_phased.vis_units = mwa_uv_phased1.vis_units\n",
    "cotter_phased.extra_keywords = mwa_uv_phased1.extra_keywords\n",
    "cotter_phased.phase_center_frame = mwa_uv_phased1.phase_center_frame\n",
    "mwa_uv_phased1.dut1 = cotter_phased.dut1\n",
    "mwa_uv_phased1.earth_omega = cotter_phased.earth_omega\n",
    "mwa_uv_phased1.gst0 = cotter_phased.gst0\n",
    "mwa_uv_phased1.rdate = cotter_phased.rdate\n",
    "mwa_uv_phased1.timesys = cotter_phased.timesys"
   ]
  },
  {
   "cell_type": "code",
   "execution_count": 12,
   "metadata": {
    "collapsed": false
   },
   "outputs": [],
   "source": [
    "# change tols so data_array and uvw_array match\n",
    "# tols are (relative, absolute)\n",
    "cotter_phased._data_array.tols = (0, 13)\n",
    "mwa_uv_phased1._data_array.tols = (0, 13)\n",
    "# if atol = 0 and array contains zeros, np.isclose returns false\n",
    "cotter_phased._uvw_array.tols = (0, .008)\n",
    "mwa_uv_phased1._uvw_array.tols = (0, .008)\n",
    "assert cotter_phased == mwa_uv_phased1\n"
   ]
  }
 ],
 "metadata": {
  "kernelspec": {
   "display_name": "Python 3",
   "language": "python",
   "name": "python3"
  },
  "language_info": {
   "codemirror_mode": {
    "name": "ipython",
    "version": 3
   },
   "file_extension": ".py",
   "mimetype": "text/x-python",
   "name": "python",
   "nbconvert_exporter": "python",
   "pygments_lexer": "ipython3",
   "version": "3.5.4"
  }
 },
 "nbformat": 4,
 "nbformat_minor": 0
}
